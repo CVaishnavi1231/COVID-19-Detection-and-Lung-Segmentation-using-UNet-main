{
  "nbformat": 4,
  "nbformat_minor": 0,
  "metadata": {
    "colab": {
      "name": "Lung segmentation using Unet.ipynb",
      "provenance": []
    },
    "kernelspec": {
      "name": "python3",
      "display_name": "Python 3"
    },
    "language_info": {
      "name": "python"
    },
    "accelerator": "GPU"
  },
  "cells": [
    {
      "cell_type": "code",
      "source": [
        "!pip uninstall tensorflow --yes"
      ],
      "metadata": {
        "colab": {
          "base_uri": "https://localhost:8080/"
        },
        "id": "_zvairqUNYD9",
        "outputId": "64b604e3-ecfc-49d8-8172-2f70da2a1ee2"
      },
      "execution_count": 1,
      "outputs": [
        {
          "output_type": "stream",
          "name": "stdout",
          "text": [
            "Found existing installation: tensorflow 2.7.0\n",
            "Uninstalling tensorflow-2.7.0:\n",
            "  Successfully uninstalled tensorflow-2.7.0\n"
          ]
        }
      ]
    },
    {
      "cell_type": "code",
      "source": [
        "!pip install tensorflow==2.2.0"
      ],
      "metadata": {
        "colab": {
          "base_uri": "https://localhost:8080/"
        },
        "id": "CtSKR3_-Naey",
        "outputId": "f91aa268-6eb9-4b24-d5d1-35c829d8c90a"
      },
      "execution_count": 2,
      "outputs": [
        {
          "output_type": "stream",
          "name": "stdout",
          "text": [
            "Collecting tensorflow==2.2.0\n",
            "  Downloading tensorflow-2.2.0-cp37-cp37m-manylinux2010_x86_64.whl (516.2 MB)\n",
            "\u001b[K     |████████████████████████████████| 516.2 MB 4.0 kB/s \n",
            "\u001b[?25hRequirement already satisfied: google-pasta>=0.1.8 in /usr/local/lib/python3.7/dist-packages (from tensorflow==2.2.0) (0.2.0)\n",
            "Requirement already satisfied: grpcio>=1.8.6 in /usr/local/lib/python3.7/dist-packages (from tensorflow==2.2.0) (1.43.0)\n",
            "Collecting h5py<2.11.0,>=2.10.0\n",
            "  Downloading h5py-2.10.0-cp37-cp37m-manylinux1_x86_64.whl (2.9 MB)\n",
            "\u001b[K     |████████████████████████████████| 2.9 MB 62.5 MB/s \n",
            "\u001b[?25hRequirement already satisfied: six>=1.12.0 in /usr/local/lib/python3.7/dist-packages (from tensorflow==2.2.0) (1.15.0)\n",
            "Requirement already satisfied: opt-einsum>=2.3.2 in /usr/local/lib/python3.7/dist-packages (from tensorflow==2.2.0) (3.3.0)\n",
            "Requirement already satisfied: termcolor>=1.1.0 in /usr/local/lib/python3.7/dist-packages (from tensorflow==2.2.0) (1.1.0)\n",
            "Collecting gast==0.3.3\n",
            "  Downloading gast-0.3.3-py2.py3-none-any.whl (9.7 kB)\n",
            "Requirement already satisfied: scipy==1.4.1 in /usr/local/lib/python3.7/dist-packages (from tensorflow==2.2.0) (1.4.1)\n",
            "Requirement already satisfied: wheel>=0.26 in /usr/local/lib/python3.7/dist-packages (from tensorflow==2.2.0) (0.37.1)\n",
            "Requirement already satisfied: protobuf>=3.8.0 in /usr/local/lib/python3.7/dist-packages (from tensorflow==2.2.0) (3.17.3)\n",
            "Requirement already satisfied: numpy<2.0,>=1.16.0 in /usr/local/lib/python3.7/dist-packages (from tensorflow==2.2.0) (1.19.5)\n",
            "Requirement already satisfied: wrapt>=1.11.1 in /usr/local/lib/python3.7/dist-packages (from tensorflow==2.2.0) (1.13.3)\n",
            "Requirement already satisfied: astunparse==1.6.3 in /usr/local/lib/python3.7/dist-packages (from tensorflow==2.2.0) (1.6.3)\n",
            "Collecting tensorflow-estimator<2.3.0,>=2.2.0\n",
            "  Downloading tensorflow_estimator-2.2.0-py2.py3-none-any.whl (454 kB)\n",
            "\u001b[K     |████████████████████████████████| 454 kB 77.1 MB/s \n",
            "\u001b[?25hRequirement already satisfied: absl-py>=0.7.0 in /usr/local/lib/python3.7/dist-packages (from tensorflow==2.2.0) (0.12.0)\n",
            "Requirement already satisfied: keras-preprocessing>=1.1.0 in /usr/local/lib/python3.7/dist-packages (from tensorflow==2.2.0) (1.1.2)\n",
            "Collecting tensorboard<2.3.0,>=2.2.0\n",
            "  Downloading tensorboard-2.2.2-py3-none-any.whl (3.0 MB)\n",
            "\u001b[K     |████████████████████████████████| 3.0 MB 62.7 MB/s \n",
            "\u001b[?25hRequirement already satisfied: setuptools>=41.0.0 in /usr/local/lib/python3.7/dist-packages (from tensorboard<2.3.0,>=2.2.0->tensorflow==2.2.0) (57.4.0)\n",
            "Requirement already satisfied: google-auth<2,>=1.6.3 in /usr/local/lib/python3.7/dist-packages (from tensorboard<2.3.0,>=2.2.0->tensorflow==2.2.0) (1.35.0)\n",
            "Requirement already satisfied: google-auth-oauthlib<0.5,>=0.4.1 in /usr/local/lib/python3.7/dist-packages (from tensorboard<2.3.0,>=2.2.0->tensorflow==2.2.0) (0.4.6)\n",
            "Requirement already satisfied: requests<3,>=2.21.0 in /usr/local/lib/python3.7/dist-packages (from tensorboard<2.3.0,>=2.2.0->tensorflow==2.2.0) (2.23.0)\n",
            "Requirement already satisfied: markdown>=2.6.8 in /usr/local/lib/python3.7/dist-packages (from tensorboard<2.3.0,>=2.2.0->tensorflow==2.2.0) (3.3.6)\n",
            "Requirement already satisfied: tensorboard-plugin-wit>=1.6.0 in /usr/local/lib/python3.7/dist-packages (from tensorboard<2.3.0,>=2.2.0->tensorflow==2.2.0) (1.8.1)\n",
            "Requirement already satisfied: werkzeug>=0.11.15 in /usr/local/lib/python3.7/dist-packages (from tensorboard<2.3.0,>=2.2.0->tensorflow==2.2.0) (1.0.1)\n",
            "Requirement already satisfied: cachetools<5.0,>=2.0.0 in /usr/local/lib/python3.7/dist-packages (from google-auth<2,>=1.6.3->tensorboard<2.3.0,>=2.2.0->tensorflow==2.2.0) (4.2.4)\n",
            "Requirement already satisfied: pyasn1-modules>=0.2.1 in /usr/local/lib/python3.7/dist-packages (from google-auth<2,>=1.6.3->tensorboard<2.3.0,>=2.2.0->tensorflow==2.2.0) (0.2.8)\n",
            "Requirement already satisfied: rsa<5,>=3.1.4 in /usr/local/lib/python3.7/dist-packages (from google-auth<2,>=1.6.3->tensorboard<2.3.0,>=2.2.0->tensorflow==2.2.0) (4.8)\n",
            "Requirement already satisfied: requests-oauthlib>=0.7.0 in /usr/local/lib/python3.7/dist-packages (from google-auth-oauthlib<0.5,>=0.4.1->tensorboard<2.3.0,>=2.2.0->tensorflow==2.2.0) (1.3.0)\n",
            "Requirement already satisfied: importlib-metadata>=4.4 in /usr/local/lib/python3.7/dist-packages (from markdown>=2.6.8->tensorboard<2.3.0,>=2.2.0->tensorflow==2.2.0) (4.10.0)\n",
            "Requirement already satisfied: zipp>=0.5 in /usr/local/lib/python3.7/dist-packages (from importlib-metadata>=4.4->markdown>=2.6.8->tensorboard<2.3.0,>=2.2.0->tensorflow==2.2.0) (3.7.0)\n",
            "Requirement already satisfied: typing-extensions>=3.6.4 in /usr/local/lib/python3.7/dist-packages (from importlib-metadata>=4.4->markdown>=2.6.8->tensorboard<2.3.0,>=2.2.0->tensorflow==2.2.0) (3.10.0.2)\n",
            "Requirement already satisfied: pyasn1<0.5.0,>=0.4.6 in /usr/local/lib/python3.7/dist-packages (from pyasn1-modules>=0.2.1->google-auth<2,>=1.6.3->tensorboard<2.3.0,>=2.2.0->tensorflow==2.2.0) (0.4.8)\n",
            "Requirement already satisfied: chardet<4,>=3.0.2 in /usr/local/lib/python3.7/dist-packages (from requests<3,>=2.21.0->tensorboard<2.3.0,>=2.2.0->tensorflow==2.2.0) (3.0.4)\n",
            "Requirement already satisfied: certifi>=2017.4.17 in /usr/local/lib/python3.7/dist-packages (from requests<3,>=2.21.0->tensorboard<2.3.0,>=2.2.0->tensorflow==2.2.0) (2021.10.8)\n",
            "Requirement already satisfied: idna<3,>=2.5 in /usr/local/lib/python3.7/dist-packages (from requests<3,>=2.21.0->tensorboard<2.3.0,>=2.2.0->tensorflow==2.2.0) (2.10)\n",
            "Requirement already satisfied: urllib3!=1.25.0,!=1.25.1,<1.26,>=1.21.1 in /usr/local/lib/python3.7/dist-packages (from requests<3,>=2.21.0->tensorboard<2.3.0,>=2.2.0->tensorflow==2.2.0) (1.24.3)\n",
            "Requirement already satisfied: oauthlib>=3.0.0 in /usr/local/lib/python3.7/dist-packages (from requests-oauthlib>=0.7.0->google-auth-oauthlib<0.5,>=0.4.1->tensorboard<2.3.0,>=2.2.0->tensorflow==2.2.0) (3.1.1)\n",
            "Installing collected packages: tensorflow-estimator, tensorboard, h5py, gast, tensorflow\n",
            "  Attempting uninstall: tensorflow-estimator\n",
            "    Found existing installation: tensorflow-estimator 2.7.0\n",
            "    Uninstalling tensorflow-estimator-2.7.0:\n",
            "      Successfully uninstalled tensorflow-estimator-2.7.0\n",
            "  Attempting uninstall: tensorboard\n",
            "    Found existing installation: tensorboard 2.7.0\n",
            "    Uninstalling tensorboard-2.7.0:\n",
            "      Successfully uninstalled tensorboard-2.7.0\n",
            "  Attempting uninstall: h5py\n",
            "    Found existing installation: h5py 3.1.0\n",
            "    Uninstalling h5py-3.1.0:\n",
            "      Successfully uninstalled h5py-3.1.0\n",
            "  Attempting uninstall: gast\n",
            "    Found existing installation: gast 0.4.0\n",
            "    Uninstalling gast-0.4.0:\n",
            "      Successfully uninstalled gast-0.4.0\n",
            "Successfully installed gast-0.3.3 h5py-2.10.0 tensorboard-2.2.2 tensorflow-2.2.0 tensorflow-estimator-2.2.0\n"
          ]
        }
      ]
    },
    {
      "cell_type": "code",
      "source": [
        "!pip install -U segmentation-models"
      ],
      "metadata": {
        "colab": {
          "base_uri": "https://localhost:8080/"
        },
        "id": "OAJnumgRNfnx",
        "outputId": "864c0484-42f6-47f5-dcc8-b827cc9fec76"
      },
      "execution_count": 3,
      "outputs": [
        {
          "output_type": "stream",
          "name": "stdout",
          "text": [
            "Collecting segmentation-models\n",
            "  Downloading segmentation_models-1.0.1-py3-none-any.whl (33 kB)\n",
            "Collecting keras-applications<=1.0.8,>=1.0.7\n",
            "  Downloading Keras_Applications-1.0.8-py3-none-any.whl (50 kB)\n",
            "\u001b[?25l\r\u001b[K     |██████▌                         | 10 kB 46.1 MB/s eta 0:00:01\r\u001b[K     |█████████████                   | 20 kB 49.3 MB/s eta 0:00:01\r\u001b[K     |███████████████████▍            | 30 kB 53.5 MB/s eta 0:00:01\r\u001b[K     |█████████████████████████▉      | 40 kB 58.3 MB/s eta 0:00:01\r\u001b[K     |████████████████████████████████| 50 kB 8.5 MB/s \n",
            "\u001b[?25hCollecting efficientnet==1.0.0\n",
            "  Downloading efficientnet-1.0.0-py3-none-any.whl (17 kB)\n",
            "Collecting image-classifiers==1.0.0\n",
            "  Downloading image_classifiers-1.0.0-py3-none-any.whl (19 kB)\n",
            "Requirement already satisfied: scikit-image in /usr/local/lib/python3.7/dist-packages (from efficientnet==1.0.0->segmentation-models) (0.18.3)\n",
            "Requirement already satisfied: numpy>=1.9.1 in /usr/local/lib/python3.7/dist-packages (from keras-applications<=1.0.8,>=1.0.7->segmentation-models) (1.19.5)\n",
            "Requirement already satisfied: h5py in /usr/local/lib/python3.7/dist-packages (from keras-applications<=1.0.8,>=1.0.7->segmentation-models) (2.10.0)\n",
            "Requirement already satisfied: six in /usr/local/lib/python3.7/dist-packages (from h5py->keras-applications<=1.0.8,>=1.0.7->segmentation-models) (1.15.0)\n",
            "Requirement already satisfied: PyWavelets>=1.1.1 in /usr/local/lib/python3.7/dist-packages (from scikit-image->efficientnet==1.0.0->segmentation-models) (1.2.0)\n",
            "Requirement already satisfied: matplotlib!=3.0.0,>=2.0.0 in /usr/local/lib/python3.7/dist-packages (from scikit-image->efficientnet==1.0.0->segmentation-models) (3.2.2)\n",
            "Requirement already satisfied: scipy>=1.0.1 in /usr/local/lib/python3.7/dist-packages (from scikit-image->efficientnet==1.0.0->segmentation-models) (1.4.1)\n",
            "Requirement already satisfied: tifffile>=2019.7.26 in /usr/local/lib/python3.7/dist-packages (from scikit-image->efficientnet==1.0.0->segmentation-models) (2021.11.2)\n",
            "Requirement already satisfied: imageio>=2.3.0 in /usr/local/lib/python3.7/dist-packages (from scikit-image->efficientnet==1.0.0->segmentation-models) (2.4.1)\n",
            "Requirement already satisfied: networkx>=2.0 in /usr/local/lib/python3.7/dist-packages (from scikit-image->efficientnet==1.0.0->segmentation-models) (2.6.3)\n",
            "Requirement already satisfied: pillow!=7.1.0,!=7.1.1,>=4.3.0 in /usr/local/lib/python3.7/dist-packages (from scikit-image->efficientnet==1.0.0->segmentation-models) (7.1.2)\n",
            "Requirement already satisfied: python-dateutil>=2.1 in /usr/local/lib/python3.7/dist-packages (from matplotlib!=3.0.0,>=2.0.0->scikit-image->efficientnet==1.0.0->segmentation-models) (2.8.2)\n",
            "Requirement already satisfied: pyparsing!=2.0.4,!=2.1.2,!=2.1.6,>=2.0.1 in /usr/local/lib/python3.7/dist-packages (from matplotlib!=3.0.0,>=2.0.0->scikit-image->efficientnet==1.0.0->segmentation-models) (3.0.6)\n",
            "Requirement already satisfied: kiwisolver>=1.0.1 in /usr/local/lib/python3.7/dist-packages (from matplotlib!=3.0.0,>=2.0.0->scikit-image->efficientnet==1.0.0->segmentation-models) (1.3.2)\n",
            "Requirement already satisfied: cycler>=0.10 in /usr/local/lib/python3.7/dist-packages (from matplotlib!=3.0.0,>=2.0.0->scikit-image->efficientnet==1.0.0->segmentation-models) (0.11.0)\n",
            "Installing collected packages: keras-applications, image-classifiers, efficientnet, segmentation-models\n",
            "Successfully installed efficientnet-1.0.0 image-classifiers-1.0.0 keras-applications-1.0.8 segmentation-models-1.0.1\n"
          ]
        }
      ]
    },
    {
      "cell_type": "code",
      "source": [
        "import glob\n",
        "import pandas  as pd\n",
        "import numpy   as np\n",
        "import nibabel as nib\n",
        "import matplotlib.pyplot as plt\n",
        "import tensorflow as tf\n",
        "from tensorflow.keras import datasets, layers, models\n",
        "from zipfile import ZipFile\n",
        "from shutil import copyfile, copyfileobj\n",
        "import gzip\n",
        "from IPython.display import clear_output\n",
        "import cv2\n",
        "import os\n",
        "from pylab import rcParams\n",
        "import PIL\n",
        "from PIL import Image\n",
        "import scipy\n",
        "from google.colab import files\n",
        "from sklearn.model_selection import train_test_split\n",
        "from google.colab import drive\n",
        "from sklearn.decomposition import PCA\n",
        "from sklearn.cluster import KMeans, MeanShift\n",
        "import imgaug as ia\n",
        "import imgaug.augmenters as iaa\n",
        "from sklearn.utils import class_weight\n",
        "\n",
        "print(\"Version: \", tf.__version__)\n",
        "print(\"Eager mode: \", tf.executing_eagerly())\n",
        "print(\"GPU is\", \"available\" if tf.config.experimental.list_physical_devices(\"GPU\") else \"NOT AVAILABLE\")"
      ],
      "metadata": {
        "colab": {
          "base_uri": "https://localhost:8080/"
        },
        "id": "eKwQUWw8Nmdt",
        "outputId": "d0e0e4b2-7884-4d80-e763-22f2dd8e944b"
      },
      "execution_count": 4,
      "outputs": [
        {
          "output_type": "stream",
          "name": "stdout",
          "text": [
            "Version:  2.2.0\n",
            "Eager mode:  True\n",
            "GPU is available\n"
          ]
        }
      ]
    },
    {
      "cell_type": "code",
      "source": [
        "import sys\n",
        "import random\n",
        "import warnings\n",
        "\n",
        "import math\n",
        "import seaborn as sns; sns.set()\n",
        "from tensorflow.keras.callbacks import Callback\n",
        "from tensorflow.keras.losses import binary_crossentropy\n",
        "from tqdm import tqdm_notebook, tnrange\n",
        "from itertools import chain\n",
        "from skimage.io import imread, imshow, concatenate_images\n",
        "from skimage.transform import resize\n",
        "from skimage.morphology import label\n",
        "\n",
        "from tensorflow.keras.models import Model, load_model\n",
        "from tensorflow.keras.layers import Input, BatchNormalization, Activation, Dense, Dropout\n",
        "from tensorflow.keras.layers import Lambda, RepeatVector, Reshape, Input\n",
        "from tensorflow.keras.layers import Conv2D, Conv2DTranspose\n",
        "from tensorflow.keras.layers import MaxPooling2D, GlobalMaxPool2D\n",
        "from tensorflow.keras.layers import concatenate, add\n",
        "from tensorflow.keras.callbacks import EarlyStopping, ModelCheckpoint, ReduceLROnPlateau, LearningRateScheduler\n",
        "from tensorflow.keras.optimizers import Adam\n",
        "from tensorflow.keras.preprocessing.image import ImageDataGenerator, array_to_img, img_to_array, load_img\n",
        "from tensorflow.keras import backend as K\n",
        "import joblib\n",
        "import gc\n",
        "import segmentation_models as sm"
      ],
      "metadata": {
        "colab": {
          "base_uri": "https://localhost:8080/"
        },
        "id": "teMI31b3NnCE",
        "outputId": "c91c00de-38a7-4614-f239-1432d7977be2"
      },
      "execution_count": 11,
      "outputs": [
        {
          "output_type": "stream",
          "name": "stdout",
          "text": [
            "Segmentation Models: using `tf.keras` framework.\n"
          ]
        }
      ]
    },
    {
      "cell_type": "code",
      "source": [
        "x_train = np.load('x_train.npy')"
      ],
      "metadata": {
        "id": "M-2HQLjl-3CV"
      },
      "execution_count": 6,
      "outputs": []
    },
    {
      "cell_type": "code",
      "source": [
        "y_train = np.load('y_train.npy')"
      ],
      "metadata": {
        "id": "EruS4WdLpljR"
      },
      "execution_count": 7,
      "outputs": []
    },
    {
      "cell_type": "code",
      "source": [
        "x_valid = np.load('x_valid.npy')"
      ],
      "metadata": {
        "id": "rk8quGESpoK0"
      },
      "execution_count": 8,
      "outputs": []
    },
    {
      "cell_type": "code",
      "source": [
        "y_valid = np.load('y_valid.npy')"
      ],
      "metadata": {
        "id": "U85GVjMJpxsQ"
      },
      "execution_count": 9,
      "outputs": []
    },
    {
      "cell_type": "code",
      "source": [
        "new_dim = 224"
      ],
      "metadata": {
        "id": "kdQb0NKqu3kP"
      },
      "execution_count": 14,
      "outputs": []
    },
    {
      "cell_type": "code",
      "source": [
        "inputs = Input((new_dim, new_dim, 1))\n",
        "# s = Lambda(lambda x: x / 255) (inputs)\n",
        "\n",
        "# def mish(inputs):\n",
        "#     return inputs * tf.math.tanh(tf.math.softplus(inputs))\n",
        "    \n",
        "c1 = Conv2D(32, (3, 3), activation='relu', padding='same', kernel_initializer=\"he_normal\") (inputs)\n",
        "c1 = Conv2D(32, (3, 3), activation='relu', padding='same', kernel_initializer=\"he_normal\") (c1)\n",
        "c1 = BatchNormalization()(c1)\n",
        "p1 = MaxPooling2D((2, 2)) (c1)\n",
        "p1 = Dropout(0.25)(p1)\n",
        "\n",
        "c2 = Conv2D(64, (3, 3), activation='relu', padding='same', kernel_initializer=\"he_normal\") (p1)\n",
        "c2 = Conv2D(64, (3, 3), activation='relu', padding='same', kernel_initializer=\"he_normal\") (c2)\n",
        "c2 = BatchNormalization()(c2)\n",
        "p2 = MaxPooling2D((2, 2)) (c2)\n",
        "p2 = Dropout(0.25)(p2)\n",
        "\n",
        "c3 = Conv2D(128, (3, 3), activation='relu', padding='same', kernel_initializer=\"he_normal\") (p2)\n",
        "c3 = Conv2D(128, (3, 3), activation='relu', padding='same', kernel_initializer=\"he_normal\") (c3)\n",
        "c3 = BatchNormalization()(c3)\n",
        "p3 = MaxPooling2D((2, 2)) (c3)\n",
        "p3 = Dropout(0.25)(p3)\n",
        "\n",
        "c4 = Conv2D(256, (3, 3), activation='relu', padding='same', kernel_initializer=\"he_normal\") (p3)\n",
        "c4 = Conv2D(256, (3, 3), activation='relu', padding='same', kernel_initializer=\"he_normal\") (c4)\n",
        "c4 = BatchNormalization()(c4)\n",
        "p4 = MaxPooling2D(pool_size=(2, 2)) (c4)\n",
        "p4 = Dropout(0.25)(p4)\n",
        "\n",
        "c5 = Conv2D(512, (3, 3), activation='relu', padding='same', kernel_initializer=\"he_normal\") (p4)\n",
        "c5 = Conv2D(512, (3, 3), activation='relu', padding='same', kernel_initializer=\"he_normal\") (c5)\n",
        "\n",
        "u6 = Conv2DTranspose(256, (2, 2), strides=(2, 2), padding='same')(c5)\n",
        "u6 = concatenate([u6, c4])\n",
        "u6 = BatchNormalization()(u6)\n",
        "c6 = Conv2D(256, (3, 3), activation='relu', padding='same', kernel_initializer=\"he_normal\") (u6)\n",
        "c6 = Conv2D(256, (3, 3), activation='relu', padding='same', kernel_initializer=\"he_normal\") (c6)\n",
        "\n",
        "\n",
        "u7 = Conv2DTranspose(128, (2, 2), strides=(2, 2), padding='same') (c6)\n",
        "u7 = concatenate([u7, c3])\n",
        "u7 = BatchNormalization()(u7)\n",
        "c7 = Conv2D(128, (3, 3), activation='relu', padding='same', kernel_initializer=\"he_normal\") (u7)\n",
        "c7 = Conv2D(128, (3, 3), activation='relu', padding='same', kernel_initializer=\"he_normal\") (c7)\n",
        "\n",
        "\n",
        "u8 = Conv2DTranspose(64, (2, 2), strides=(2, 2), padding='same') (c7)\n",
        "u8 = concatenate([u8, c2])\n",
        "u8 = BatchNormalization()(u8)\n",
        "c8 = Conv2D(64, (3, 3), activation='relu', padding='same', kernel_initializer=\"he_normal\") (u8)\n",
        "c8 = Conv2D(64, (3, 3), activation='relu', padding='same', kernel_initializer=\"he_normal\") (c8)\n",
        "\n",
        "\n",
        "u9 = Conv2DTranspose(32, (2, 2), strides=(2, 2), padding='same') (c8)\n",
        "u9 = concatenate([u9, c1], axis=3)\n",
        "u9 = BatchNormalization()(u9)\n",
        "c9 = Conv2D(32, (3, 3), activation='relu', padding='same', kernel_initializer=\"he_normal\") (u9)\n",
        "c9 = Conv2D(32, (3, 3), activation='relu', padding='same', kernel_initializer=\"he_normal\") (c9)\n",
        "\n",
        "outputs = Conv2D(1, (1, 1), activation='sigmoid') (c9)\n",
        "\n",
        "model = Model(inputs=[inputs], outputs=[outputs])\n",
        "model.summary()"
      ],
      "metadata": {
        "colab": {
          "base_uri": "https://localhost:8080/"
        },
        "id": "3njtKHzF-ttK",
        "outputId": "1918ffee-3a4e-4454-9f28-758ae22a2152"
      },
      "execution_count": 15,
      "outputs": [
        {
          "output_type": "stream",
          "name": "stdout",
          "text": [
            "Model: \"model\"\n",
            "__________________________________________________________________________________________________\n",
            "Layer (type)                    Output Shape         Param #     Connected to                     \n",
            "==================================================================================================\n",
            "input_1 (InputLayer)            [(None, 224, 224, 1) 0                                            \n",
            "__________________________________________________________________________________________________\n",
            "conv2d (Conv2D)                 (None, 224, 224, 32) 320         input_1[0][0]                    \n",
            "__________________________________________________________________________________________________\n",
            "conv2d_1 (Conv2D)               (None, 224, 224, 32) 9248        conv2d[0][0]                     \n",
            "__________________________________________________________________________________________________\n",
            "batch_normalization (BatchNorma (None, 224, 224, 32) 128         conv2d_1[0][0]                   \n",
            "__________________________________________________________________________________________________\n",
            "max_pooling2d (MaxPooling2D)    (None, 112, 112, 32) 0           batch_normalization[0][0]        \n",
            "__________________________________________________________________________________________________\n",
            "dropout (Dropout)               (None, 112, 112, 32) 0           max_pooling2d[0][0]              \n",
            "__________________________________________________________________________________________________\n",
            "conv2d_2 (Conv2D)               (None, 112, 112, 64) 18496       dropout[0][0]                    \n",
            "__________________________________________________________________________________________________\n",
            "conv2d_3 (Conv2D)               (None, 112, 112, 64) 36928       conv2d_2[0][0]                   \n",
            "__________________________________________________________________________________________________\n",
            "batch_normalization_1 (BatchNor (None, 112, 112, 64) 256         conv2d_3[0][0]                   \n",
            "__________________________________________________________________________________________________\n",
            "max_pooling2d_1 (MaxPooling2D)  (None, 56, 56, 64)   0           batch_normalization_1[0][0]      \n",
            "__________________________________________________________________________________________________\n",
            "dropout_1 (Dropout)             (None, 56, 56, 64)   0           max_pooling2d_1[0][0]            \n",
            "__________________________________________________________________________________________________\n",
            "conv2d_4 (Conv2D)               (None, 56, 56, 128)  73856       dropout_1[0][0]                  \n",
            "__________________________________________________________________________________________________\n",
            "conv2d_5 (Conv2D)               (None, 56, 56, 128)  147584      conv2d_4[0][0]                   \n",
            "__________________________________________________________________________________________________\n",
            "batch_normalization_2 (BatchNor (None, 56, 56, 128)  512         conv2d_5[0][0]                   \n",
            "__________________________________________________________________________________________________\n",
            "max_pooling2d_2 (MaxPooling2D)  (None, 28, 28, 128)  0           batch_normalization_2[0][0]      \n",
            "__________________________________________________________________________________________________\n",
            "dropout_2 (Dropout)             (None, 28, 28, 128)  0           max_pooling2d_2[0][0]            \n",
            "__________________________________________________________________________________________________\n",
            "conv2d_6 (Conv2D)               (None, 28, 28, 256)  295168      dropout_2[0][0]                  \n",
            "__________________________________________________________________________________________________\n",
            "conv2d_7 (Conv2D)               (None, 28, 28, 256)  590080      conv2d_6[0][0]                   \n",
            "__________________________________________________________________________________________________\n",
            "batch_normalization_3 (BatchNor (None, 28, 28, 256)  1024        conv2d_7[0][0]                   \n",
            "__________________________________________________________________________________________________\n",
            "max_pooling2d_3 (MaxPooling2D)  (None, 14, 14, 256)  0           batch_normalization_3[0][0]      \n",
            "__________________________________________________________________________________________________\n",
            "dropout_3 (Dropout)             (None, 14, 14, 256)  0           max_pooling2d_3[0][0]            \n",
            "__________________________________________________________________________________________________\n",
            "conv2d_8 (Conv2D)               (None, 14, 14, 512)  1180160     dropout_3[0][0]                  \n",
            "__________________________________________________________________________________________________\n",
            "conv2d_9 (Conv2D)               (None, 14, 14, 512)  2359808     conv2d_8[0][0]                   \n",
            "__________________________________________________________________________________________________\n",
            "conv2d_transpose (Conv2DTranspo (None, 28, 28, 256)  524544      conv2d_9[0][0]                   \n",
            "__________________________________________________________________________________________________\n",
            "concatenate (Concatenate)       (None, 28, 28, 512)  0           conv2d_transpose[0][0]           \n",
            "                                                                 batch_normalization_3[0][0]      \n",
            "__________________________________________________________________________________________________\n",
            "batch_normalization_4 (BatchNor (None, 28, 28, 512)  2048        concatenate[0][0]                \n",
            "__________________________________________________________________________________________________\n",
            "conv2d_10 (Conv2D)              (None, 28, 28, 256)  1179904     batch_normalization_4[0][0]      \n",
            "__________________________________________________________________________________________________\n",
            "conv2d_11 (Conv2D)              (None, 28, 28, 256)  590080      conv2d_10[0][0]                  \n",
            "__________________________________________________________________________________________________\n",
            "conv2d_transpose_1 (Conv2DTrans (None, 56, 56, 128)  131200      conv2d_11[0][0]                  \n",
            "__________________________________________________________________________________________________\n",
            "concatenate_1 (Concatenate)     (None, 56, 56, 256)  0           conv2d_transpose_1[0][0]         \n",
            "                                                                 batch_normalization_2[0][0]      \n",
            "__________________________________________________________________________________________________\n",
            "batch_normalization_5 (BatchNor (None, 56, 56, 256)  1024        concatenate_1[0][0]              \n",
            "__________________________________________________________________________________________________\n",
            "conv2d_12 (Conv2D)              (None, 56, 56, 128)  295040      batch_normalization_5[0][0]      \n",
            "__________________________________________________________________________________________________\n",
            "conv2d_13 (Conv2D)              (None, 56, 56, 128)  147584      conv2d_12[0][0]                  \n",
            "__________________________________________________________________________________________________\n",
            "conv2d_transpose_2 (Conv2DTrans (None, 112, 112, 64) 32832       conv2d_13[0][0]                  \n",
            "__________________________________________________________________________________________________\n",
            "concatenate_2 (Concatenate)     (None, 112, 112, 128 0           conv2d_transpose_2[0][0]         \n",
            "                                                                 batch_normalization_1[0][0]      \n",
            "__________________________________________________________________________________________________\n",
            "batch_normalization_6 (BatchNor (None, 112, 112, 128 512         concatenate_2[0][0]              \n",
            "__________________________________________________________________________________________________\n",
            "conv2d_14 (Conv2D)              (None, 112, 112, 64) 73792       batch_normalization_6[0][0]      \n",
            "__________________________________________________________________________________________________\n",
            "conv2d_15 (Conv2D)              (None, 112, 112, 64) 36928       conv2d_14[0][0]                  \n",
            "__________________________________________________________________________________________________\n",
            "conv2d_transpose_3 (Conv2DTrans (None, 224, 224, 32) 8224        conv2d_15[0][0]                  \n",
            "__________________________________________________________________________________________________\n",
            "concatenate_3 (Concatenate)     (None, 224, 224, 64) 0           conv2d_transpose_3[0][0]         \n",
            "                                                                 batch_normalization[0][0]        \n",
            "__________________________________________________________________________________________________\n",
            "batch_normalization_7 (BatchNor (None, 224, 224, 64) 256         concatenate_3[0][0]              \n",
            "__________________________________________________________________________________________________\n",
            "conv2d_16 (Conv2D)              (None, 224, 224, 32) 18464       batch_normalization_7[0][0]      \n",
            "__________________________________________________________________________________________________\n",
            "conv2d_17 (Conv2D)              (None, 224, 224, 32) 9248        conv2d_16[0][0]                  \n",
            "__________________________________________________________________________________________________\n",
            "conv2d_18 (Conv2D)              (None, 224, 224, 1)  33          conv2d_17[0][0]                  \n",
            "==================================================================================================\n",
            "Total params: 7,765,281\n",
            "Trainable params: 7,762,401\n",
            "Non-trainable params: 2,880\n",
            "__________________________________________________________________________________________________\n"
          ]
        }
      ]
    },
    {
      "cell_type": "code",
      "source": [
        "def dice_loss(y_true, y_pred):\n",
        "    loss = 1 - dice_coeff(y_true, y_pred)\n",
        "    return loss"
      ],
      "metadata": {
        "id": "LKUa5KnS-uxe"
      },
      "execution_count": 16,
      "outputs": []
    },
    {
      "cell_type": "code",
      "source": [
        "from tensorflow.keras.losses import binary_crossentropy\n",
        "def bce_dice_loss(y_true, y_pred):\n",
        "    loss = 0.5*binary_crossentropy(y_true, y_pred) + 0.5*dice_loss(y_true, y_pred)\n",
        "    return loss"
      ],
      "metadata": {
        "id": "EkdwbmRl-xhP"
      },
      "execution_count": 17,
      "outputs": []
    },
    {
      "cell_type": "code",
      "source": [
        "def dice_coeff(y_true, y_pred):\n",
        "    smooth = 1.\n",
        "    y_true_f = K.flatten(y_true)\n",
        "    y_pred_f = K.flatten(y_pred)\n",
        "    intersection = K.sum(y_true_f * y_pred_f)\n",
        "    score = (2. * intersection + smooth) / (K.sum(y_true_f) + K.sum(y_pred_f) + smooth)\n",
        "    return score"
      ],
      "metadata": {
        "id": "vyDH18Nd-zTy"
      },
      "execution_count": 18,
      "outputs": []
    },
    {
      "cell_type": "code",
      "source": [
        "model.compile(optimizer=tf.keras.optimizers.Adam(), loss=bce_dice_loss,\n",
        "              metrics=[dice_coeff])"
      ],
      "metadata": {
        "id": "NSDygrka-0ye"
      },
      "execution_count": 19,
      "outputs": []
    },
    {
      "cell_type": "code",
      "source": [
        "model.fit(\n",
        "    x=x_train, y=y_train, batch_size=32, epochs=80, verbose=1)"
      ],
      "metadata": {
        "colab": {
          "base_uri": "https://localhost:8080/"
        },
        "id": "8EbATyvo_BV3",
        "outputId": "67f0edb2-a0a2-4255-a0f9-f05dbf05ce4b"
      },
      "execution_count": 20,
      "outputs": [
        {
          "output_type": "stream",
          "name": "stdout",
          "text": [
            "Epoch 1/80\n",
            "47/47 [==============================] - 23s 483ms/step - loss: 0.1097 - dice_coeff: 0.9352\n",
            "Epoch 2/80\n",
            "47/47 [==============================] - 21s 457ms/step - loss: 0.0626 - dice_coeff: 0.9639\n",
            "Epoch 3/80\n",
            "47/47 [==============================] - 22s 467ms/step - loss: 0.0541 - dice_coeff: 0.9686\n",
            "Epoch 4/80\n",
            "47/47 [==============================] - 22s 477ms/step - loss: 0.0519 - dice_coeff: 0.9690\n",
            "Epoch 5/80\n",
            "47/47 [==============================] - 23s 484ms/step - loss: 0.0558 - dice_coeff: 0.9671\n",
            "Epoch 6/80\n",
            "47/47 [==============================] - 23s 495ms/step - loss: 0.0487 - dice_coeff: 0.9712\n",
            "Epoch 7/80\n",
            "47/47 [==============================] - 23s 492ms/step - loss: 0.0459 - dice_coeff: 0.9723\n",
            "Epoch 8/80\n",
            "47/47 [==============================] - 23s 490ms/step - loss: 0.0408 - dice_coeff: 0.9748\n",
            "Epoch 9/80\n",
            "47/47 [==============================] - 23s 490ms/step - loss: 0.0404 - dice_coeff: 0.9752\n",
            "Epoch 10/80\n",
            "47/47 [==============================] - 23s 493ms/step - loss: 0.0394 - dice_coeff: 0.9761\n",
            "Epoch 11/80\n",
            "47/47 [==============================] - 23s 493ms/step - loss: 0.0386 - dice_coeff: 0.9763\n",
            "Epoch 12/80\n",
            "47/47 [==============================] - 23s 492ms/step - loss: 0.0386 - dice_coeff: 0.9760\n",
            "Epoch 13/80\n",
            "47/47 [==============================] - 23s 491ms/step - loss: 0.0364 - dice_coeff: 0.9775\n",
            "Epoch 14/80\n",
            "47/47 [==============================] - 23s 492ms/step - loss: 0.0353 - dice_coeff: 0.9781\n",
            "Epoch 15/80\n",
            "47/47 [==============================] - 23s 491ms/step - loss: 0.0358 - dice_coeff: 0.9776\n",
            "Epoch 16/80\n",
            "47/47 [==============================] - 23s 492ms/step - loss: 0.0344 - dice_coeff: 0.9785\n",
            "Epoch 17/80\n",
            "47/47 [==============================] - 23s 492ms/step - loss: 0.0357 - dice_coeff: 0.9779\n",
            "Epoch 18/80\n",
            "47/47 [==============================] - 23s 492ms/step - loss: 0.0337 - dice_coeff: 0.9789\n",
            "Epoch 19/80\n",
            "47/47 [==============================] - 23s 493ms/step - loss: 0.0342 - dice_coeff: 0.9788\n",
            "Epoch 20/80\n",
            "47/47 [==============================] - 23s 493ms/step - loss: 0.0337 - dice_coeff: 0.9781\n",
            "Epoch 21/80\n",
            "47/47 [==============================] - 23s 493ms/step - loss: 0.0353 - dice_coeff: 0.9779\n",
            "Epoch 22/80\n",
            "47/47 [==============================] - 23s 493ms/step - loss: 0.0331 - dice_coeff: 0.9791\n",
            "Epoch 23/80\n",
            "47/47 [==============================] - 23s 493ms/step - loss: 0.0325 - dice_coeff: 0.9788\n",
            "Epoch 24/80\n",
            "47/47 [==============================] - 23s 492ms/step - loss: 0.0366 - dice_coeff: 0.9771\n",
            "Epoch 25/80\n",
            "47/47 [==============================] - 23s 493ms/step - loss: 0.0360 - dice_coeff: 0.9777\n",
            "Epoch 26/80\n",
            "47/47 [==============================] - 23s 493ms/step - loss: 0.0320 - dice_coeff: 0.9796\n",
            "Epoch 27/80\n",
            "47/47 [==============================] - 23s 492ms/step - loss: 0.0312 - dice_coeff: 0.9804\n",
            "Epoch 28/80\n",
            "47/47 [==============================] - 23s 492ms/step - loss: 0.0303 - dice_coeff: 0.9809\n",
            "Epoch 29/80\n",
            "47/47 [==============================] - 23s 491ms/step - loss: 0.0305 - dice_coeff: 0.9801\n",
            "Epoch 30/80\n",
            "47/47 [==============================] - 23s 491ms/step - loss: 0.0321 - dice_coeff: 0.9799\n",
            "Epoch 31/80\n",
            "47/47 [==============================] - 23s 492ms/step - loss: 0.0300 - dice_coeff: 0.9810\n",
            "Epoch 32/80\n",
            "47/47 [==============================] - 23s 491ms/step - loss: 0.0297 - dice_coeff: 0.9813\n",
            "Epoch 33/80\n",
            "47/47 [==============================] - 23s 491ms/step - loss: 0.0307 - dice_coeff: 0.9807\n",
            "Epoch 34/80\n",
            "47/47 [==============================] - 23s 491ms/step - loss: 0.0297 - dice_coeff: 0.9812\n",
            "Epoch 35/80\n",
            "47/47 [==============================] - 23s 491ms/step - loss: 0.0294 - dice_coeff: 0.9799\n",
            "Epoch 36/80\n",
            "47/47 [==============================] - 23s 491ms/step - loss: 0.0558 - dice_coeff: 0.9669\n",
            "Epoch 37/80\n",
            "47/47 [==============================] - 23s 490ms/step - loss: 0.0417 - dice_coeff: 0.9746\n",
            "Epoch 38/80\n",
            "47/47 [==============================] - 23s 490ms/step - loss: 0.0356 - dice_coeff: 0.9780\n",
            "Epoch 39/80\n",
            "47/47 [==============================] - 23s 491ms/step - loss: 0.0335 - dice_coeff: 0.9790\n",
            "Epoch 40/80\n",
            "47/47 [==============================] - 23s 491ms/step - loss: 0.0323 - dice_coeff: 0.9797\n",
            "Epoch 41/80\n",
            "47/47 [==============================] - 23s 491ms/step - loss: 0.0319 - dice_coeff: 0.9800\n",
            "Epoch 42/80\n",
            "47/47 [==============================] - 23s 491ms/step - loss: 0.0310 - dice_coeff: 0.9807\n",
            "Epoch 43/80\n",
            "47/47 [==============================] - 23s 492ms/step - loss: 0.0304 - dice_coeff: 0.9810\n",
            "Epoch 44/80\n",
            "47/47 [==============================] - 23s 491ms/step - loss: 0.0295 - dice_coeff: 0.9815\n",
            "Epoch 45/80\n",
            "47/47 [==============================] - 23s 490ms/step - loss: 0.0294 - dice_coeff: 0.9815\n",
            "Epoch 46/80\n",
            "47/47 [==============================] - 23s 491ms/step - loss: 0.0297 - dice_coeff: 0.9813\n",
            "Epoch 47/80\n",
            "47/47 [==============================] - 23s 490ms/step - loss: 0.0289 - dice_coeff: 0.9817\n",
            "Epoch 48/80\n",
            "47/47 [==============================] - 23s 490ms/step - loss: 0.0296 - dice_coeff: 0.9806\n",
            "Epoch 49/80\n",
            "47/47 [==============================] - 23s 490ms/step - loss: 0.0328 - dice_coeff: 0.9796\n",
            "Epoch 50/80\n",
            "47/47 [==============================] - 23s 489ms/step - loss: 0.0304 - dice_coeff: 0.9808\n",
            "Epoch 51/80\n",
            "47/47 [==============================] - 23s 490ms/step - loss: 0.0297 - dice_coeff: 0.9813\n",
            "Epoch 52/80\n",
            "47/47 [==============================] - 23s 491ms/step - loss: 0.0289 - dice_coeff: 0.9816\n",
            "Epoch 53/80\n",
            "47/47 [==============================] - 23s 490ms/step - loss: 0.0289 - dice_coeff: 0.9813\n",
            "Epoch 54/80\n",
            "47/47 [==============================] - 23s 490ms/step - loss: 0.0310 - dice_coeff: 0.9788\n",
            "Epoch 55/80\n",
            "47/47 [==============================] - 23s 489ms/step - loss: 0.0525 - dice_coeff: 0.9695\n",
            "Epoch 56/80\n",
            "47/47 [==============================] - 23s 489ms/step - loss: 0.0383 - dice_coeff: 0.9765\n",
            "Epoch 57/80\n",
            "47/47 [==============================] - 23s 490ms/step - loss: 0.0346 - dice_coeff: 0.9787\n",
            "Epoch 58/80\n",
            "47/47 [==============================] - 23s 490ms/step - loss: 0.0315 - dice_coeff: 0.9802\n",
            "Epoch 59/80\n",
            "47/47 [==============================] - 23s 490ms/step - loss: 0.0305 - dice_coeff: 0.9807\n",
            "Epoch 60/80\n",
            "47/47 [==============================] - 23s 491ms/step - loss: 0.0306 - dice_coeff: 0.9808\n",
            "Epoch 61/80\n",
            "47/47 [==============================] - 23s 491ms/step - loss: 0.0301 - dice_coeff: 0.9811\n",
            "Epoch 62/80\n",
            "47/47 [==============================] - 23s 489ms/step - loss: 0.0292 - dice_coeff: 0.9816\n",
            "Epoch 63/80\n",
            "47/47 [==============================] - 23s 489ms/step - loss: 0.0289 - dice_coeff: 0.9818\n",
            "Epoch 64/80\n",
            "47/47 [==============================] - 23s 490ms/step - loss: 0.0289 - dice_coeff: 0.9817\n",
            "Epoch 65/80\n",
            "47/47 [==============================] - 23s 489ms/step - loss: 0.0283 - dice_coeff: 0.9821\n",
            "Epoch 66/80\n",
            "47/47 [==============================] - 23s 489ms/step - loss: 0.0278 - dice_coeff: 0.9824\n",
            "Epoch 67/80\n",
            "47/47 [==============================] - 23s 489ms/step - loss: 0.0277 - dice_coeff: 0.9823\n",
            "Epoch 68/80\n",
            "47/47 [==============================] - 23s 490ms/step - loss: 0.0276 - dice_coeff: 0.9825\n",
            "Epoch 69/80\n",
            "47/47 [==============================] - 23s 489ms/step - loss: 0.0275 - dice_coeff: 0.9826\n",
            "Epoch 70/80\n",
            "47/47 [==============================] - 23s 489ms/step - loss: 0.0271 - dice_coeff: 0.9828\n",
            "Epoch 71/80\n",
            "47/47 [==============================] - 23s 490ms/step - loss: 0.0272 - dice_coeff: 0.9827\n",
            "Epoch 72/80\n",
            "47/47 [==============================] - 23s 490ms/step - loss: 0.0272 - dice_coeff: 0.9828\n",
            "Epoch 73/80\n",
            "47/47 [==============================] - 23s 489ms/step - loss: 0.0272 - dice_coeff: 0.9825\n",
            "Epoch 74/80\n",
            "47/47 [==============================] - 23s 489ms/step - loss: 0.0267 - dice_coeff: 0.9829\n",
            "Epoch 75/80\n",
            "47/47 [==============================] - 23s 489ms/step - loss: 0.0275 - dice_coeff: 0.9826\n",
            "Epoch 76/80\n",
            "47/47 [==============================] - 23s 490ms/step - loss: 0.0265 - dice_coeff: 0.9832\n",
            "Epoch 77/80\n",
            "47/47 [==============================] - 23s 489ms/step - loss: 0.0263 - dice_coeff: 0.9833\n",
            "Epoch 78/80\n",
            "47/47 [==============================] - 23s 490ms/step - loss: 0.0262 - dice_coeff: 0.9834\n",
            "Epoch 79/80\n",
            "47/47 [==============================] - 23s 489ms/step - loss: 0.0263 - dice_coeff: 0.9832\n",
            "Epoch 80/80\n",
            "47/47 [==============================] - 23s 489ms/step - loss: 0.0276 - dice_coeff: 0.9825\n"
          ]
        },
        {
          "output_type": "execute_result",
          "data": {
            "text/plain": [
              "<tensorflow.python.keras.callbacks.History at 0x7ff0924515d0>"
            ]
          },
          "metadata": {},
          "execution_count": 20
        }
      ]
    },
    {
      "cell_type": "code",
      "source": [
        "model.save_weights('unet_lung_segmentation.h5')"
      ],
      "metadata": {
        "id": "hYCFvEopC0X7"
      },
      "execution_count": 21,
      "outputs": []
    },
    {
      "cell_type": "code",
      "source": [
        "score = model.evaluate(x_valid, y_valid, batch_size=32)\n",
        "print(\"test loss, test dice coefficient:\", score)"
      ],
      "metadata": {
        "colab": {
          "base_uri": "https://localhost:8080/"
        },
        "id": "dRdTtCYq0HPo",
        "outputId": "03be8ae8-ec83-4750-b04b-ea7a5a1254d5"
      },
      "execution_count": 22,
      "outputs": [
        {
          "output_type": "stream",
          "name": "stdout",
          "text": [
            "20/20 [==============================] - 5s 232ms/step - loss: 0.0349 - dice_coeff: 0.9802\n",
            "test loss, test dice coefficient: [0.03492915257811546, 0.9802067875862122]\n"
          ]
        }
      ]
    }
  ]
}